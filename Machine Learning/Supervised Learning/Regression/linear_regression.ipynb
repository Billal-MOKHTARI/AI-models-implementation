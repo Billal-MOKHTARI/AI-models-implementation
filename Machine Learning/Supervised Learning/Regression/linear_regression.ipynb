{
  "nbformat": 4,
  "nbformat_minor": 0,
  "metadata": {
    "colab": {
      "provenance": []
    },
    "kernelspec": {
      "name": "python3",
      "display_name": "Python 3"
    },
    "language_info": {
      "name": "python"
    }
  },
  "cells": [
    {
      "cell_type": "markdown",
      "source": [
        "**The hypothesis**\n",
        "$$h_{\\theta}(X)=Xθ$$\n",
        "\n",
        "**The cost function**\n",
        "$$J(θ)=\\frac{1}{2m}(Xθ-Y)^{T}(Xθ-Y)$$\n",
        "\n",
        "**Derivatives**\n",
        "$$∇J(θ)=\\frac{1}{m}X^T(Xθ-Y)$$\n",
        "\n",
        "**Gradient descent**\n",
        "$$θ ← θ-α∇J(θ)$$\n",
        "\n",
        "*Note* :\n",
        "\n",
        "We should not forget to add vector of ones to $X$ \n",
        "\n",
        "\n"
      ],
      "metadata": {
        "id": "MR3htE2c54vx"
      }
    },
    {
      "cell_type": "code",
      "execution_count": null,
      "metadata": {
        "id": "ALrdDMd25Sck"
      },
      "outputs": [],
      "source": [
        "import pandas as pd\n",
        "import numpy as np"
      ]
    },
    {
      "cell_type": "markdown",
      "source": [
        "Linear regression oriented object implementation"
      ],
      "metadata": {
        "id": "lallrgs0MO3R"
      }
    },
    {
      "cell_type": "code",
      "source": [
        "class LinearRegression:\n",
        "  # The parmeters and the error will be returned\n",
        "  \n",
        "  def __init__(self):\n",
        "    self.__train_cost = None\n",
        "    self.__theta = None\n",
        "\n",
        "  def __preprocess(self, X, y=None, y_pre=True):\n",
        "    # reshape X_train and y_train if it's necessary\n",
        "    if y_pre:\n",
        "      y = y.reshape((X.shape[0], 1))\n",
        "\n",
        "    if X.size == X.shape[0]:\n",
        "      X = X.reshape((X.size, 1))\n",
        "\n",
        "    # Add column of ones to X_train\n",
        "    ones = np.ones((X.shape[0], 1))\n",
        "    X = np.hstack((ones, X))\n",
        "\n",
        "    if y_pre:\n",
        "      return X, y\n",
        "    else:\n",
        "      return X\n",
        "\n",
        "  def __cost_function(self, X, y, theta):\n",
        "    m = X.shape[0]\n",
        "    error = np.subtract(np.matmul(X, theta), y)\n",
        "    J = np.divide(np.matmul(error.T, error), m)[0][0]\n",
        "    gradients = 2*np.divide(np.matmul(X.T, error), m)\n",
        "    \n",
        "    return J, gradients\n",
        "\n",
        "  def fit(self, X_train, y_train, epochs, lr=0.01):\n",
        "    # reshape X_train and y_train if it's necessary\n",
        "    X_train, y_train = self.__preprocess(X_train, y_train)\n",
        "\n",
        "    # Get the shape of the matrix X_train\n",
        "    m, n = X_train.shape\n",
        "\n",
        "    # Initialize the parameters theta\n",
        "    self.__theta = np.random.rand(n, 1)\n",
        "\n",
        "\n",
        "    # Run gradient descent\n",
        "    for i in range(epochs):\n",
        "      self.__train_cost, gradients = self.__cost_function(X_train, y_train, self.__theta)\n",
        "      self.__theta -= lr*gradients\n",
        "\n",
        "\n",
        "\n",
        "  def eval(self, X_val, y_val):\n",
        "    X_val, y_val = self.__preprocess(X_val, y_val)\n",
        "\n",
        "\n",
        "    y_pred = np.matmul(X_val, self.__theta)\n",
        "    m = X_val.shape[0]\n",
        "    eval_cost = np.divide(np.matmul((y_pred-y_val).T, y_pred-y_val), m)[0, 0]\n",
        "\n",
        "    mean = np.mean(y_val)\n",
        "    SSres = np.matmul((y_val-y_pred).T, y_val-y_pred)\n",
        "    SStot = np.matmul((y_val-mean).T, y_val-mean)\n",
        "    R2 = 1-SSres/SStot\n",
        "\n",
        "    return R2[0, 0], eval_cost\n",
        "  \n",
        "  def predict(self, X_test):\n",
        "    X_test = self.__preprocess(X_test, y_pre=False)\n",
        "\n",
        "    return np.matmul(X_test, self.__theta)\n",
        "\n",
        "  # getters\n",
        "  @property\n",
        "  def get_params(self):\n",
        "    return self.__theta\n",
        "\n",
        "  @property\n",
        "  def get_cost(self):\n",
        "    return self.__train_cost"
      ],
      "metadata": {
        "id": "zje1vBNSAoGY"
      },
      "execution_count": 159,
      "outputs": []
    },
    {
      "cell_type": "code",
      "source": [
        "# Create X_train, y_train\n",
        "X_train = np.array([1, 2, 3, 4, 6, 7])\n",
        "y_train = 3*X_train+1+np.random.rand(X_train.shape[0])\n",
        "y_train"
      ],
      "metadata": {
        "colab": {
          "base_uri": "https://localhost:8080/"
        },
        "id": "j_kl7H64YApG",
        "outputId": "3df75c31-eda4-46e2-8550-4788ae016e42"
      },
      "execution_count": 164,
      "outputs": [
        {
          "output_type": "execute_result",
          "data": {
            "text/plain": [
              "array([ 4.6033857 ,  7.6504612 , 10.98348038, 13.32988153, 19.40064801,\n",
              "       22.86781212])"
            ]
          },
          "metadata": {},
          "execution_count": 164
        }
      ]
    },
    {
      "cell_type": "code",
      "source": [
        "# Fit the model\n",
        "model = LinearRegression()\n",
        "model.fit(X_train, y_train, 2000, lr=0.01)"
      ],
      "metadata": {
        "id": "EJ48JGNsYiGP"
      },
      "execution_count": 148,
      "outputs": []
    },
    {
      "cell_type": "code",
      "source": [
        "# Get the parameters and the cost\n",
        "model.get_params, model.get_cost"
      ],
      "metadata": {
        "colab": {
          "base_uri": "https://localhost:8080/"
        },
        "id": "A1oSH6TEjumN",
        "outputId": "d535f1c3-7ab2-490f-edf3-838a1bec986f"
      },
      "execution_count": 165,
      "outputs": [
        {
          "output_type": "execute_result",
          "data": {
            "text/plain": [
              "(array([[1.56365948],\n",
              "        [3.00341361]]), 0.08365080923986319)"
            ]
          },
          "metadata": {},
          "execution_count": 165
        }
      ]
    },
    {
      "cell_type": "code",
      "source": [
        "# Create X_val and y_val\n",
        "X_val = np.array([10, 23, 15, 14, 17, 20])\n",
        "y_val = 3*X_val+1+np.random.rand(X_val.shape[0])"
      ],
      "metadata": {
        "id": "4E-5LLzSMua-"
      },
      "execution_count": 150,
      "outputs": []
    },
    {
      "cell_type": "code",
      "source": [
        "# Evaluate our model\n",
        "R2, val_cost = model.eval(X_val, y_val)\n",
        "R2, val_cost"
      ],
      "metadata": {
        "colab": {
          "base_uri": "https://localhost:8080/"
        },
        "id": "id-aLGouk-WR",
        "outputId": "3d68ce18-b112-4e2f-990f-d17f3016fc7b"
      },
      "execution_count": 151,
      "outputs": [
        {
          "output_type": "execute_result",
          "data": {
            "text/plain": [
              "(0.9991272619280405, 0.1405086663945955)"
            ]
          },
          "metadata": {},
          "execution_count": 151
        }
      ]
    },
    {
      "cell_type": "code",
      "source": [
        "# Make predictions\n",
        "X_test = np.array([55, 56, 12, 76.4])\n",
        "model.predict(X_test)"
      ],
      "metadata": {
        "colab": {
          "base_uri": "https://localhost:8080/"
        },
        "id": "hF2G6mNTMA3t",
        "outputId": "58b10621-5080-4b91-ac0c-6ebec4b42df5"
      },
      "execution_count": 153,
      "outputs": [
        {
          "output_type": "execute_result",
          "data": {
            "text/plain": [
              "array([[166.7514081 ],\n",
              "       [169.75482171],\n",
              "       [ 37.60462282],\n",
              "       [231.02445938]])"
            ]
          },
          "metadata": {},
          "execution_count": 153
        }
      ]
    }
  ]
}
